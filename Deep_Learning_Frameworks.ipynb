{
  "nbformat": 4,
  "nbformat_minor": 0,
  "metadata": {
    "colab": {
      "provenance": []
    },
    "kernelspec": {
      "name": "python3",
      "display_name": "Python 3"
    },
    "language_info": {
      "name": "python"
    }
  },
  "cells": [
    {
      "cell_type": "markdown",
      "source": [
        "---\n",
        "---\n",
        "## Theretical Answers Of Deep Learning Frameworks:\n",
        "---\n",
        "---\n",
        "###1. What is TensorFlow 2.0, and how is it different from TensorFlow?\n",
        "TensorFlow 2.0 is a major upgrade to TensorFlow, introduced by Google to make the library more user-friendly, intuitive, and production-ready.\n",
        "\n",
        "Key Differences from TensorFlow 1.x:\n",
        "\n",
        "| Feature                   | TensorFlow 1.x               | TensorFlow 2.0                           |\n",
        "| ------------------------- | ---------------------------- | ---------------------------------------- |\n",
        "| **Eager Execution**       | Optional                     | Enabled by default (more Pythonic)       |\n",
        "| **Keras Integration**     | External or partial          | Integrated as the default high-level API |\n",
        "| **Code Simplicity**       | Complicated, session-based   | Simple, function-based                   |\n",
        "| **API Cleanup**           | Redundant/Confusing APIs     | Many APIs removed or simplified          |\n",
        "| **tf.function Decorator** | Not available                | Introduced to convert Python to graph    |\n",
        "| **Improved Performance**  | Less efficient in deployment | Better performance and mobile support    |\n",
        "\n",
        "---\n",
        "###2. How do you install TensorFlow?\n",
        "    pip install tensorflow==2.0.0\n",
        "---\n",
        "\n",
        "###3. What is the primary function of the tf.function in TensorFlow 2.0?\n",
        "The tf.function decorator converts a Python function into a TensorFlow graph for better performance.\n",
        "\n",
        "- It improves execution speed by converting Python code into a graph.\n",
        "\n",
        "- Enables faster training and inference.\n",
        "\n",
        "- Allows deployment across devices (e.g., GPU, TPU).\n",
        "---\n",
        "\n",
        "###4. What is the purpose of the Model class in TensorFlow 2.0?\n",
        "The Model class in tf.keras is used to define, train, evaluate, and predict using deep learning models.\n",
        "\n",
        "- A clean and customizable way to build complex architectures\n",
        "\n",
        "- Built-in support for:\n",
        "\n",
        " - model.fit() — training\n",
        "\n",
        " - model.evaluate() — evaluation\n",
        "\n",
        " - model.predict() — inference\n",
        "---\n",
        "###5. How do you create a neural network using TensorFlow 2.0?\n",
        "    import tensorflow as tf\n",
        "    from tensorflow.keras.models import Sequential\n",
        "    from tensorflow.keras.layers import Dense\n",
        "\n",
        "    # 1. Create the model\n",
        "    model = Sequential([\n",
        "        Dense(64, activation='relu', input_shape=(784,)),\n",
        "        Dense(64, activation='relu'),\n",
        "        Dense(10, activation='softmax')\n",
        "    ])\n",
        "\n",
        "    # 2. Compile the model\n",
        "    model.compile(optimizer='adam',\n",
        "                  loss='sparse_categorical_crossentropy',\n",
        "                  metrics=['accuracy'])\n",
        "\n",
        "    # 3. Train the model (with example data)\n",
        "    # model.fit(x_train, y_train, epochs=10)\n",
        "\n",
        "    # 4. Evaluate the model\n",
        "    # model.evaluate(x_test, y_test)\n",
        "---\n",
        "###6. What is the importance of Tensor Space in TensorFlow 2.0?\n",
        "Tensor Space refers to the multi-dimensional array structure in which all data in TensorFlow is represented and manipulated.\n",
        "- TensorFlow processes all data as tensors (scalars, vectors, matrices, etc.).\n",
        "\n",
        "- Every layer in a deep learning model receives and outputs tensors.\n",
        "\n",
        "- The ability to work in tensor space allows for:\n",
        "\n",
        " - Efficient GPU/TPU computation\n",
        "\n",
        " - Batch operations and broadcasting\n",
        "\n",
        " - Clear mathematical representation of models\n",
        "---\n",
        "\n",
        "###7. How can TensorBoard be integrated with TensorFlow 2.0?\n",
        "TensorBoard is TensorFlow's built-in tool for visualizing training metrics, graphs, images, histograms, and more.\n",
        "\n",
        "    import tensorflow as tf\n",
        "    from tensorflow.keras.callbacks import TensorBoard\n",
        "    import datetime\n",
        "\n",
        "    # Create log directory\n",
        "    log_dir = \"logs/fit/\" + datetime.datetime.now().strftime(\"%Y%m%d-%H%M%S\")\n",
        "\n",
        "    # Create TensorBoard callback\n",
        "    tensorboard_callback = TensorBoard(log_dir=log_dir, histogram_freq=1)\n",
        "\n",
        "    # Train model with callback\n",
        "    model.fit(x_train, y_train, epochs=5, callbacks=[tensorboard_callback])\n",
        "---\n",
        "###8. What is the purpose of TensorFlow Playground?\n",
        "TensorFlow Playground is an interactive web tool to visualize and experiment with small neural networks directly in the browser.\n",
        "\n",
        "- Helps beginners understand:\n",
        "\n",
        " - Neural network architecture\n",
        "\n",
        " - Activation functions\n",
        "\n",
        " - Overfitting and underfitting\n",
        "\n",
        " - Training dynamics\n",
        "\n",
        "- Allows you to adjust:\n",
        "\n",
        " - Number of layers & neurons\n",
        "\n",
        " - Learning rate\n",
        "\n",
        " - Dataset types\n",
        "\n",
        " - Epochs and batch size\n",
        "---\n",
        "\n",
        "###9. What is Netron, and how is it useful for deep learning models?\n",
        "Netron is a visualizer tool for deep learning models.\n",
        "- Supports models from TensorFlow, PyTorch, Keras, ONNX, Caffe, CoreML, and more.\n",
        "- Displays model layers, shapes, weights, and connections.\n",
        "- Helps in debugging and understanding architecture of pre-trained or complex models.\n",
        "\n",
        "- Ideal for model documentation and presentation.\n",
        "---\n",
        "\n",
        "###10. What is the difference between TensorFlow and PyTorch?\n",
        "\n",
        "| Feature               | TensorFlow 2.x                         | PyTorch                           |\n",
        "| --------------------- | -------------------------------------- | --------------------------------- |\n",
        "| **Developer**         | Google                                 | Facebook (Meta)                   |\n",
        "| **Execution**         | Static + Dynamic (via `@tf.function`)  | Dynamic computation graph (eager) |\n",
        "| **Ease of Debugging** | Harder in TF 1.x, better in TF 2.x     | Easier due to Pythonic style      |\n",
        "| **API**               | `tf.keras` (high-level)                | Native and Pythonic               |\n",
        "| **Deployment**        | TensorFlow Lite, TF Serving            | TorchScript, ONNX                 |\n",
        "| **Visualization**     | TensorBoard                            | TensorBoard / Netron              |\n",
        "| **Popularity**        | Industry and production (Google, etc.) | Research and academia             |\n",
        "\n",
        "---\n",
        "###11. How do you install PyTorch?\n",
        "    pip install torch torchvision torchaudio\n",
        "\n",
        "---\n",
        "###12. What is the basic structure of a PyTorch neural network?\n",
        "The basic structure of a PyTorch neural network involves defining a class that inherits from - torch.nn.Module.\n",
        "\n",
        "    import torch\n",
        "    import torch.nn as nn\n",
        "\n",
        "    class MyNeuralNetwork(nn.Module):\n",
        "        def __init__(self):\n",
        "            super(MyNeuralNetwork, self).__init__()\n",
        "            self.layer1 = nn.Linear(784, 128)\n",
        "            self.relu = nn.ReLU()\n",
        "            self.output = nn.Linear(128, 10)\n",
        "\n",
        "        def forward(self, x):\n",
        "            x = self.layer1(x)\n",
        "            x = self.relu(x)\n",
        "            x = self.output(x)\n",
        "            return x\n",
        "\n",
        "---\n",
        "###13. What is the significance of tensors in PyTorch?\n",
        "In PyTorch, tensors are the core data structure, similar to NumPy arrays but with GPU acceleration.\n",
        "\n",
        "- epresent inputs, outputs, weights, gradients.\n",
        "\n",
        "- Enable automatic differentiation with requires_grad=True.\n",
        "\n",
        "- Work seamlessly on CPU or GPU.\n",
        "\n",
        "- Used for all computations (forward, backpropagation, loss).\n",
        "---\n",
        "\n",
        "14. What is the difference between torch.Tensor and torch.cuda.Tensor in PyTorch?\n",
        "\n",
        "| Feature        | `torch.Tensor`                       | `torch.cuda.Tensor`                       |\n",
        "| -------------- | ------------------------------------ | ----------------------------------------- |\n",
        "| **Location**   | Resides in CPU memory                | Resides in GPU memory                     |\n",
        "| **Usage**      | For basic CPU-based training/testing | For faster training on CUDA-enabled GPU   |\n",
        "| **Conversion** | Default when using `torch.tensor()`  | Use `.to('cuda')` or `.cuda()` to convert |\n",
        "| **Speed**      | Slower for large computations        | Much faster with parallel GPU processing  |\n",
        "\n",
        "---\n",
        "###15. What is the purpose of the torch.optim module in PyTorch?\n",
        "The torch.optim module contains optimization algorithms used to update model weights during training.\n",
        "\n",
        "- Common optimizers:\n",
        " - optim.SGD – Stochastic Gradient Descent\n",
        "\n",
        " - optim.Adam – Adaptive Moment Estimation\n",
        "\n",
        " - optim.RMSprop, Adagrad, etc.\n",
        "\n",
        "---\n",
        "###16. What are some common activation functions used in neural networks?\n",
        "Here are some commonly used activation functions:\n",
        "\n",
        "| Function       | Description                                                           |\n",
        "| -------------- | --------------------------------------------------------------------- |\n",
        "| **ReLU**       | `max(0, x)` – widely used, fast convergence                           |\n",
        "| **Sigmoid**    | Maps input to (0, 1) – used in binary classification                  |\n",
        "| **Tanh**       | Maps input to (-1, 1) – smooth, zero-centered                         |\n",
        "| **Leaky ReLU** | Allows small negative values (fixes ReLU dying neurons)               |\n",
        "| **Softmax**    | Converts logits to probabilities (used in multi-class classification) |\n",
        "| **Swish**      | `x * sigmoid(x)` – smooth and trainable                               |\n",
        "\n",
        "---\n",
        "###17. What is the difference between torch.nn.Module and torch.nn.Sequential in PyTorch?\n",
        "\n",
        "| Feature            | `nn.Module`                          | `nn.Sequential`                                  |\n",
        "| ------------------ | ------------------------------------ | ------------------------------------------------ |\n",
        "| **Flexibility**    | Very flexible (custom forward logic) | Linear, ordered stack of layers                  |\n",
        "| **Usage**          | Define any complex structure         | Simple feed-forward models                       |\n",
        "| **Forward method** | You define manually (`def forward`)  | Automatically defined                            |\n",
        "| **Preferred for**  | Complex models (e.g., branching)     | Simple models (1 input → many layers → 1 output) |\n",
        "\n",
        "---\n",
        "###18. How can you monitor training progress in TensorFlow 2.0?\n",
        "You can monitor training in TensorFlow 2.0 using:\n",
        "\n",
        "    model.fit(x_train, y_train, epochs=10, verbose=1)\n",
        "    from tensorflow.keras.callbacks import TensorBoard\n",
        "    tensorboard_callback = TensorBoard(log_dir=\"logs\")\n",
        "\n",
        "    model.fit(x_train, y_train, epochs=10, callbacks=[tensorboard_callback])\n",
        "\n",
        "    tensorboard --logdir=logs\n",
        "---\n",
        "###19. How does the Keras API fit into TensorFlow 2.0?\n",
        "    import tensorflow.keras as keras\n",
        "\n",
        "---\n",
        "###20. What is an example of a deep learning project that can be implemented using TensorFlow 2.0?\n",
        "\n",
        "Example Project: Image Classification using CNN\n",
        "\n",
        "    (x_train, y_train), (x_test, y_test) = tf.keras.datasets.mnist.load_data()\n",
        "\n",
        "    x_train = x_train / 255.0\n",
        "    x_test = x_test / 255.0\n",
        "\n",
        "    model = tf.keras.models.Sequential([\n",
        "        tf.keras.layers.Reshape((28, 28, 1), input_shape=(28, 28)),\n",
        "        tf.keras.layers.Conv2D(32, (3,3), activation='relu'),\n",
        "        tf.keras.layers.MaxPooling2D(2,2),\n",
        "        tf.keras.layers.Flatten(),\n",
        "        tf.keras.layers.Dense(128, activation='relu'),\n",
        "        tf.keras.layers.Dense(10, activation='softmax')\n",
        "    ])\n",
        "\n",
        "    model.compile(optimizer='adam', loss='sparse_categorical_crossentropy', metrics=['accuracy'])\n",
        "    model.fit(x_train, y_train, epochs=5)\n",
        "\n",
        "---\n",
        "###21. What is the main advantage of using pre-trained models in TensorFlow and PyTorch?\n",
        "Pre-trained models have already been trained on large datasets (like ImageNet), so:\n",
        "\n",
        "| Benefit                | Explanation                                   |\n",
        "| ---------------------- | --------------------------------------------- |\n",
        "| **Faster development** | No need to train from scratch                 |\n",
        "| **Lower compute cost** | Reduces training time and hardware usage      |\n",
        "| **Better performance** | Often generalize well due to vast pretraining |\n",
        "| **Transfer learning**  | Easily fine-tune for your custom task         |\n",
        "\n",
        "---\n",
        "---\n",
        "##Practical Answers:-\n",
        "---\n",
        "---\n",
        "### 1. How do you install and verify that TensorFlow 2.0 was installed successfully?\n",
        "\n",
        "\n"
      ],
      "metadata": {
        "id": "sbjC_WbVTyDN"
      }
    },
    {
      "cell_type": "code",
      "source": [
        "#!pip install tensorflow\n",
        "\n",
        "import tensorflow as tf\n",
        "print(tf.__version__)"
      ],
      "metadata": {
        "colab": {
          "base_uri": "https://localhost:8080/"
        },
        "id": "fgBTE2Ghj17H",
        "outputId": "61a285c1-0eac-4626-bad4-1e9dc851738c"
      },
      "execution_count": null,
      "outputs": [
        {
          "output_type": "stream",
          "name": "stdout",
          "text": [
            "2.18.0\n"
          ]
        }
      ]
    },
    {
      "cell_type": "markdown",
      "source": [
        "###2. How can you define a simple function in TensorFlow 2.0 to perform addition?"
      ],
      "metadata": {
        "id": "u8nf6Pu7tKrD"
      }
    },
    {
      "cell_type": "code",
      "source": [
        "import tensorflow as tf\n",
        "\n",
        "@tf.function\n",
        "def add(a, b):\n",
        "    return a + b\n",
        "\n",
        "x = tf.constant(5)\n",
        "y = tf.constant(3)\n",
        "print(add(x, y))"
      ],
      "metadata": {
        "colab": {
          "base_uri": "https://localhost:8080/"
        },
        "id": "OFFrAQG4tQhK",
        "outputId": "e1f8ef5b-88a4-400d-dfe2-81cd524d49b7"
      },
      "execution_count": null,
      "outputs": [
        {
          "output_type": "stream",
          "name": "stdout",
          "text": [
            "tf.Tensor(8, shape=(), dtype=int32)\n"
          ]
        }
      ]
    },
    {
      "cell_type": "markdown",
      "source": [
        "###3. How can you create a simple neural network in TensorFlow 2.0 with one hidden layer?"
      ],
      "metadata": {
        "id": "EUuXBJ2Htewa"
      }
    },
    {
      "cell_type": "code",
      "source": [
        "from tensorflow.keras.models import Sequential\n",
        "from tensorflow.keras.layers import Dense\n",
        "\n",
        "model = Sequential([\n",
        "    Dense(64, activation='relu', input_shape=(10,)),\n",
        "    Dense(1)\n",
        "])\n",
        "\n",
        "model.compile(optimizer='adam', loss='mse')\n",
        "print(model.summary())"
      ],
      "metadata": {
        "colab": {
          "base_uri": "https://localhost:8080/",
          "height": 210
        },
        "id": "LchspBgbvKzm",
        "outputId": "5ff66cec-978b-4ee2-ffa6-d119620748e2"
      },
      "execution_count": 12,
      "outputs": [
        {
          "output_type": "display_data",
          "data": {
            "text/plain": [
              "\u001b[1mModel: \"sequential_4\"\u001b[0m\n"
            ],
            "text/html": [
              "<pre style=\"white-space:pre;overflow-x:auto;line-height:normal;font-family:Menlo,'DejaVu Sans Mono',consolas,'Courier New',monospace\"><span style=\"font-weight: bold\">Model: \"sequential_4\"</span>\n",
              "</pre>\n"
            ]
          },
          "metadata": {}
        },
        {
          "output_type": "display_data",
          "data": {
            "text/plain": [
              "┏━━━━━━━━━━━━━━━━━━━━━━━━━━━━━━━━━┳━━━━━━━━━━━━━━━━━━━━━━━━┳━━━━━━━━━━━━━━━┓\n",
              "┃\u001b[1m \u001b[0m\u001b[1mLayer (type)                   \u001b[0m\u001b[1m \u001b[0m┃\u001b[1m \u001b[0m\u001b[1mOutput Shape          \u001b[0m\u001b[1m \u001b[0m┃\u001b[1m \u001b[0m\u001b[1m      Param #\u001b[0m\u001b[1m \u001b[0m┃\n",
              "┡━━━━━━━━━━━━━━━━━━━━━━━━━━━━━━━━━╇━━━━━━━━━━━━━━━━━━━━━━━━╇━━━━━━━━━━━━━━━┩\n",
              "│ dense_8 (\u001b[38;5;33mDense\u001b[0m)                 │ (\u001b[38;5;45mNone\u001b[0m, \u001b[38;5;34m64\u001b[0m)             │           \u001b[38;5;34m704\u001b[0m │\n",
              "├─────────────────────────────────┼────────────────────────┼───────────────┤\n",
              "│ dense_9 (\u001b[38;5;33mDense\u001b[0m)                 │ (\u001b[38;5;45mNone\u001b[0m, \u001b[38;5;34m1\u001b[0m)              │            \u001b[38;5;34m65\u001b[0m │\n",
              "└─────────────────────────────────┴────────────────────────┴───────────────┘\n"
            ],
            "text/html": [
              "<pre style=\"white-space:pre;overflow-x:auto;line-height:normal;font-family:Menlo,'DejaVu Sans Mono',consolas,'Courier New',monospace\">┏━━━━━━━━━━━━━━━━━━━━━━━━━━━━━━━━━┳━━━━━━━━━━━━━━━━━━━━━━━━┳━━━━━━━━━━━━━━━┓\n",
              "┃<span style=\"font-weight: bold\"> Layer (type)                    </span>┃<span style=\"font-weight: bold\"> Output Shape           </span>┃<span style=\"font-weight: bold\">       Param # </span>┃\n",
              "┡━━━━━━━━━━━━━━━━━━━━━━━━━━━━━━━━━╇━━━━━━━━━━━━━━━━━━━━━━━━╇━━━━━━━━━━━━━━━┩\n",
              "│ dense_8 (<span style=\"color: #0087ff; text-decoration-color: #0087ff\">Dense</span>)                 │ (<span style=\"color: #00d7ff; text-decoration-color: #00d7ff\">None</span>, <span style=\"color: #00af00; text-decoration-color: #00af00\">64</span>)             │           <span style=\"color: #00af00; text-decoration-color: #00af00\">704</span> │\n",
              "├─────────────────────────────────┼────────────────────────┼───────────────┤\n",
              "│ dense_9 (<span style=\"color: #0087ff; text-decoration-color: #0087ff\">Dense</span>)                 │ (<span style=\"color: #00d7ff; text-decoration-color: #00d7ff\">None</span>, <span style=\"color: #00af00; text-decoration-color: #00af00\">1</span>)              │            <span style=\"color: #00af00; text-decoration-color: #00af00\">65</span> │\n",
              "└─────────────────────────────────┴────────────────────────┴───────────────┘\n",
              "</pre>\n"
            ]
          },
          "metadata": {}
        },
        {
          "output_type": "display_data",
          "data": {
            "text/plain": [
              "\u001b[1m Total params: \u001b[0m\u001b[38;5;34m769\u001b[0m (3.00 KB)\n"
            ],
            "text/html": [
              "<pre style=\"white-space:pre;overflow-x:auto;line-height:normal;font-family:Menlo,'DejaVu Sans Mono',consolas,'Courier New',monospace\"><span style=\"font-weight: bold\"> Total params: </span><span style=\"color: #00af00; text-decoration-color: #00af00\">769</span> (3.00 KB)\n",
              "</pre>\n"
            ]
          },
          "metadata": {}
        },
        {
          "output_type": "display_data",
          "data": {
            "text/plain": [
              "\u001b[1m Trainable params: \u001b[0m\u001b[38;5;34m769\u001b[0m (3.00 KB)\n"
            ],
            "text/html": [
              "<pre style=\"white-space:pre;overflow-x:auto;line-height:normal;font-family:Menlo,'DejaVu Sans Mono',consolas,'Courier New',monospace\"><span style=\"font-weight: bold\"> Trainable params: </span><span style=\"color: #00af00; text-decoration-color: #00af00\">769</span> (3.00 KB)\n",
              "</pre>\n"
            ]
          },
          "metadata": {}
        },
        {
          "output_type": "display_data",
          "data": {
            "text/plain": [
              "\u001b[1m Non-trainable params: \u001b[0m\u001b[38;5;34m0\u001b[0m (0.00 B)\n"
            ],
            "text/html": [
              "<pre style=\"white-space:pre;overflow-x:auto;line-height:normal;font-family:Menlo,'DejaVu Sans Mono',consolas,'Courier New',monospace\"><span style=\"font-weight: bold\"> Non-trainable params: </span><span style=\"color: #00af00; text-decoration-color: #00af00\">0</span> (0.00 B)\n",
              "</pre>\n"
            ]
          },
          "metadata": {}
        },
        {
          "output_type": "stream",
          "name": "stdout",
          "text": [
            "None\n"
          ]
        }
      ]
    },
    {
      "cell_type": "markdown",
      "source": [
        "###4. How can you visualize the training progress using TensorFlow and Matplotlib?"
      ],
      "metadata": {
        "id": "Fhzt4b2KvTGl"
      }
    },
    {
      "cell_type": "code",
      "source": [
        "import tensorflow as tf\n",
        "import numpy as np\n",
        "import matplotlib.pyplot as plt\n",
        "\n",
        "# Generate some dummy data\n",
        "x_train = np.random.rand(1000, 10)\n",
        "y_train = np.sum(x_train, axis=1)\n",
        "\n",
        "x_val = np.random.rand(200, 10)\n",
        "y_val = np.sum(x_val, axis=1)\n",
        "\n",
        "# Build a simple model\n",
        "model = tf.keras.Sequential([\n",
        "    tf.keras.layers.Dense(64, activation='relu', input_shape=(10,)),\n",
        "    tf.keras.layers.Dense(1)\n",
        "])\n",
        "\n",
        "model.compile(optimizer='adam', loss='mse')\n",
        "\n",
        "# Train model and get history\n",
        "history = model.fit(x_train, y_train, epochs=10, validation_data=(x_val, y_val))\n",
        "\n",
        "# Plot loss\n",
        "plt.plot(history.history['loss'], label='Train Loss')\n",
        "plt.plot(history.history['val_loss'], label='Val Loss')\n",
        "plt.xlabel('Epoch')\n",
        "plt.ylabel('Loss')\n",
        "plt.legend()\n",
        "plt.title('Training Progress')\n",
        "plt.show()"
      ],
      "metadata": {
        "colab": {
          "base_uri": "https://localhost:8080/",
          "height": 874
        },
        "id": "z-eB9wGzvW6s",
        "outputId": "b16d7c11-f3a7-492a-a80d-549d94da6bf4"
      },
      "execution_count": null,
      "outputs": [
        {
          "output_type": "stream",
          "name": "stderr",
          "text": [
            "/usr/local/lib/python3.11/dist-packages/keras/src/layers/core/dense.py:87: UserWarning: Do not pass an `input_shape`/`input_dim` argument to a layer. When using Sequential models, prefer using an `Input(shape)` object as the first layer in the model instead.\n",
            "  super().__init__(activity_regularizer=activity_regularizer, **kwargs)\n"
          ]
        },
        {
          "output_type": "stream",
          "name": "stdout",
          "text": [
            "Epoch 1/10\n",
            "\u001b[1m32/32\u001b[0m \u001b[32m━━━━━━━━━━━━━━━━━━━━\u001b[0m\u001b[37m\u001b[0m \u001b[1m2s\u001b[0m 13ms/step - loss: 19.0737 - val_loss: 10.7885\n",
            "Epoch 2/10\n",
            "\u001b[1m32/32\u001b[0m \u001b[32m━━━━━━━━━━━━━━━━━━━━\u001b[0m\u001b[37m\u001b[0m \u001b[1m0s\u001b[0m 5ms/step - loss: 8.1435 - val_loss: 2.0186\n",
            "Epoch 3/10\n",
            "\u001b[1m32/32\u001b[0m \u001b[32m━━━━━━━━━━━━━━━━━━━━\u001b[0m\u001b[37m\u001b[0m \u001b[1m0s\u001b[0m 5ms/step - loss: 1.1562 - val_loss: 0.0709\n",
            "Epoch 4/10\n",
            "\u001b[1m32/32\u001b[0m \u001b[32m━━━━━━━━━━━━━━━━━━━━\u001b[0m\u001b[37m\u001b[0m \u001b[1m0s\u001b[0m 5ms/step - loss: 0.0751 - val_loss: 0.0565\n",
            "Epoch 5/10\n",
            "\u001b[1m32/32\u001b[0m \u001b[32m━━━━━━━━━━━━━━━━━━━━\u001b[0m\u001b[37m\u001b[0m \u001b[1m0s\u001b[0m 5ms/step - loss: 0.0629 - val_loss: 0.0489\n",
            "Epoch 6/10\n",
            "\u001b[1m32/32\u001b[0m \u001b[32m━━━━━━━━━━━━━━━━━━━━\u001b[0m\u001b[37m\u001b[0m \u001b[1m0s\u001b[0m 5ms/step - loss: 0.0577 - val_loss: 0.0424\n",
            "Epoch 7/10\n",
            "\u001b[1m32/32\u001b[0m \u001b[32m━━━━━━━━━━━━━━━━━━━━\u001b[0m\u001b[37m\u001b[0m \u001b[1m0s\u001b[0m 4ms/step - loss: 0.0530 - val_loss: 0.0367\n",
            "Epoch 8/10\n",
            "\u001b[1m32/32\u001b[0m \u001b[32m━━━━━━━━━━━━━━━━━━━━\u001b[0m\u001b[37m\u001b[0m \u001b[1m0s\u001b[0m 4ms/step - loss: 0.0435 - val_loss: 0.0317\n",
            "Epoch 9/10\n",
            "\u001b[1m32/32\u001b[0m \u001b[32m━━━━━━━━━━━━━━━━━━━━\u001b[0m\u001b[37m\u001b[0m \u001b[1m0s\u001b[0m 5ms/step - loss: 0.0374 - val_loss: 0.0275\n",
            "Epoch 10/10\n",
            "\u001b[1m32/32\u001b[0m \u001b[32m━━━━━━━━━━━━━━━━━━━━\u001b[0m\u001b[37m\u001b[0m \u001b[1m0s\u001b[0m 5ms/step - loss: 0.0293 - val_loss: 0.0237\n"
          ]
        },
        {
          "output_type": "display_data",
          "data": {
            "text/plain": [
              "<Figure size 640x480 with 1 Axes>"
            ],
            "image/png": "[encoded data removed]"
          },
          "metadata": {}
        }
      ]
    },
    {
      "cell_type": "markdown",
      "source": [
        "###5. How do you install PyTorch and verify the PyTorch installation?"
      ],
      "metadata": {
        "id": "ChF4jaFsvlL8"
      }
    },
    {
      "cell_type": "code",
      "source": [
        "!pip install torch torchvision torchaudio\n",
        "\n",
        "import torch\n",
        "print(torch.__version__)\n",
        "print(torch.cuda.is_available())"
      ],
      "metadata": {
        "id": "poyfekkcvnY8"
      },
      "execution_count": null,
      "outputs": []
    },
    {
      "cell_type": "markdown",
      "source": [
        "###6. How do you create a simple neural network in PyTorch?"
      ],
      "metadata": {
        "id": "gA7q2xLZwiBa"
      }
    },
    {
      "cell_type": "code",
      "source": [
        "import torch.nn as nn\n",
        "\n",
        "class SimpleNN(nn.Module):\n",
        "    def __init__(self):\n",
        "        super(SimpleNN, self).__init__()\n",
        "        self.fc1 = nn.Linear(10, 64)\n",
        "        self.relu = nn.ReLU()\n",
        "        self.fc2 = nn.Linear(64, 1)\n",
        "\n",
        "    def forward(self, x):\n",
        "        x = self.relu(self.fc1(x))\n",
        "        return self.fc2(x)\n",
        "\n",
        "model = SimpleNN()\n",
        "print(model)"
      ],
      "metadata": {
        "colab": {
          "base_uri": "https://localhost:8080/"
        },
        "id": "_nKpCi1Ywmj6",
        "outputId": "9dfb0ae8-8d80-4683-81d4-6caf5233355a"
      },
      "execution_count": null,
      "outputs": [
        {
          "output_type": "stream",
          "name": "stdout",
          "text": [
            "SimpleNN(\n",
            "  (fc1): Linear(in_features=10, out_features=64, bias=True)\n",
            "  (relu): ReLU()\n",
            "  (fc2): Linear(in_features=64, out_features=1, bias=True)\n",
            ")\n"
          ]
        }
      ]
    },
    {
      "cell_type": "markdown",
      "source": [
        "###7. How do you define a loss function and optimizer in PyTorch?"
      ],
      "metadata": {
        "id": "L9lV6G6Iwq9J"
      }
    },
    {
      "cell_type": "code",
      "source": [
        "import torch.optim as optim\n",
        "\n",
        "criterion = nn.MSELoss()\n",
        "optimizer = optim.Adam(model.parameters(), lr=0.001)"
      ],
      "metadata": {
        "id": "X1aqF3Fwww9h"
      },
      "execution_count": null,
      "outputs": []
    },
    {
      "cell_type": "markdown",
      "source": [
        "###8. How do you implement a custom loss function in PyTorch?"
      ],
      "metadata": {
        "id": "J2ZpF1x3w5no"
      }
    },
    {
      "cell_type": "code",
      "source": [
        "import torch\n",
        "\n",
        "def custom_loss(output, target):\n",
        "    # Example: squared difference\n",
        "    loss = torch.mean((output - target) ** 2)\n",
        "    return loss\n",
        "\n",
        "class CustomLoss(nn.Module):\n",
        "    def __init__(self):\n",
        "        super(CustomLoss, self).__init__()\n",
        "\n",
        "    def forward(self, output, target):\n",
        "        return torch.mean((output - target) ** 2)\n",
        "\n",
        "criterion = CustomLoss()"
      ],
      "metadata": {
        "id": "g_JHi6tcw7HA"
      },
      "execution_count": null,
      "outputs": []
    },
    {
      "cell_type": "markdown",
      "source": [
        "###9. How do you save and load a TensorFlow model?"
      ],
      "metadata": {
        "id": "unL_Zz4vxL4w"
      }
    },
    {
      "cell_type": "code",
      "source": [
        "# Save entire model (architecture + weights + optimizer)\n",
        "model.save('my_model.project')\n",
        "\n",
        "from tensorflow.keras.models import load_model\n",
        "model = load_model('my_model.h5')"
      ],
      "metadata": {
        "id": "ociufyXHxO_I"
      },
      "execution_count": null,
      "outputs": []
    }
  ]
}